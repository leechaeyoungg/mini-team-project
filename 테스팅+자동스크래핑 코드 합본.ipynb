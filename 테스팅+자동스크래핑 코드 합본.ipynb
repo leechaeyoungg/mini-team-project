{
 "cells": [
  {
   "cell_type": "code",
   "execution_count": 1,
   "id": "4e12bd18",
   "metadata": {},
   "outputs": [
    {
     "name": "stdout",
     "output_type": "stream",
     "text": [
      "Requirement already satisfied: selenium in c:\\users\\user\\anaconda3\\lib\\site-packages (4.12.0)\n",
      "Requirement already satisfied: requests in c:\\users\\user\\anaconda3\\lib\\site-packages (2.31.0)\n",
      "Requirement already satisfied: beautifulsoup4 in c:\\users\\user\\anaconda3\\lib\\site-packages (4.12.2)\n",
      "Requirement already satisfied: urllib3<3,>=1.26 in c:\\users\\user\\anaconda3\\lib\\site-packages (from urllib3[socks]<3,>=1.26->selenium) (1.26.16)\n",
      "Requirement already satisfied: trio~=0.17 in c:\\users\\user\\anaconda3\\lib\\site-packages (from selenium) (0.22.2)\n",
      "Requirement already satisfied: trio-websocket~=0.9 in c:\\users\\user\\anaconda3\\lib\\site-packages (from selenium) (0.10.4)\n",
      "Requirement already satisfied: certifi>=2021.10.8 in c:\\users\\user\\anaconda3\\lib\\site-packages (from selenium) (2023.7.22)\n",
      "Requirement already satisfied: charset-normalizer<4,>=2 in c:\\users\\user\\anaconda3\\lib\\site-packages (from requests) (2.0.4)\n",
      "Requirement already satisfied: idna<4,>=2.5 in c:\\users\\user\\anaconda3\\lib\\site-packages (from requests) (3.4)\n",
      "Requirement already satisfied: soupsieve>1.2 in c:\\users\\user\\anaconda3\\lib\\site-packages (from beautifulsoup4) (2.4)\n",
      "Requirement already satisfied: attrs>=20.1.0 in c:\\users\\user\\anaconda3\\lib\\site-packages (from trio~=0.17->selenium) (22.1.0)\n",
      "Requirement already satisfied: sortedcontainers in c:\\users\\user\\anaconda3\\lib\\site-packages (from trio~=0.17->selenium) (2.4.0)\n",
      "Requirement already satisfied: outcome in c:\\users\\user\\anaconda3\\lib\\site-packages (from trio~=0.17->selenium) (1.2.0)\n",
      "Requirement already satisfied: sniffio in c:\\users\\user\\anaconda3\\lib\\site-packages (from trio~=0.17->selenium) (1.2.0)\n",
      "Requirement already satisfied: cffi>=1.14 in c:\\users\\user\\anaconda3\\lib\\site-packages (from trio~=0.17->selenium) (1.15.1)\n",
      "Requirement already satisfied: exceptiongroup in c:\\users\\user\\anaconda3\\lib\\site-packages (from trio-websocket~=0.9->selenium) (1.1.3)\n",
      "Requirement already satisfied: wsproto>=0.14 in c:\\users\\user\\anaconda3\\lib\\site-packages (from trio-websocket~=0.9->selenium) (1.2.0)\n",
      "Requirement already satisfied: PySocks!=1.5.7,<2.0,>=1.5.6 in c:\\users\\user\\anaconda3\\lib\\site-packages (from urllib3[socks]<3,>=1.26->selenium) (1.7.1)\n",
      "Requirement already satisfied: pycparser in c:\\users\\user\\anaconda3\\lib\\site-packages (from cffi>=1.14->trio~=0.17->selenium) (2.21)\n",
      "Requirement already satisfied: h11<1,>=0.9.0 in c:\\users\\user\\anaconda3\\lib\\site-packages (from wsproto>=0.14->trio-websocket~=0.9->selenium) (0.14.0)\n",
      "Note: you may need to restart the kernel to use updated packages.\n"
     ]
    }
   ],
   "source": [
    "pip install selenium requests beautifulsoup4\n"
   ]
  },
  {
   "cell_type": "code",
   "execution_count": 7,
   "id": "d57e85ca",
   "metadata": {},
   "outputs": [
    {
     "name": "stdout",
     "output_type": "stream",
     "text": [
      "이미지 주소: http://localhost:5000/static/detects/result_1.jpg\n",
      "이미지 저장: downloaded_images/1.jpg\n",
      "설명 저장: downloaded_texts/1_description.txt\n",
      "==================================================\n",
      "이미지 주소: http://localhost:5000/static/detects/result_2.jpg\n",
      "이미지 저장: downloaded_images/2.jpg\n",
      "설명 저장: downloaded_texts/2_description.txt\n",
      "==================================================\n"
     ]
    }
   ],
   "source": [
    "from selenium import webdriver\n",
    "from selenium.webdriver.common.by import By\n",
    "import os\n",
    "import time\n",
    "import requests\n",
    "from bs4 import BeautifulSoup\n",
    "from urllib.parse import urljoin\n",
    "\n",
    "# Chrome 드라이버 경로 설정\n",
    "chrome_driver_path = 'C:/path/to/chromedriver.exe'\n",
    "url = 'http://localhost:5000/'\n",
    "\n",
    "# ChromeOptions 객체 생성\n",
    "chrome_options = webdriver.ChromeOptions()\n",
    "chrome_options.add_argument(\"--disable-extensions\")\n",
    "\n",
    "# 웹 드라이버 시작\n",
    "driver = webdriver.Chrome(options=chrome_options)\n",
    "driver.get(url)\n",
    "\n",
    "# 파일 선택 버튼 자동 클릭 (JavaScript로 클릭)\n",
    "file_input = driver.find_element(By.ID, 'imageInput')  \n",
    "driver.execute_script(\"arguments[0].click();\", file_input)\n",
    "\n",
    "# 파일 업로드\n",
    "image_folder_path = 'C:/Users/user/Downloads/images/'  # 실제 이미지 파일이 있는 폴더 경로로 수정 가능\n",
    "for image_file in os.listdir(image_folder_path):\n",
    "    file_path = os.path.join(image_folder_path, image_file)\n",
    "    with open(file_path, 'rb') as f:\n",
    "        file_data = f.read()\n",
    "    file_input.send_keys(file_path)  # 파일 경로 대신 파일 데이터를 전달\n",
    "    time.sleep(1)  \n",
    "\n",
    "# 이미지 전송 버튼 자동 클릭\n",
    "upload_button = driver.find_element(By.XPATH, \"//input[@value='이미지 전송']\")  \n",
    "upload_button.click()\n",
    "\n",
    "# 웹 페이지가 로딩되는 동안 대기 (5초 기다림)\n",
    "time.sleep(5)\n",
    "\n",
    "# 스크래핑하여 이미지 주소 및 설명 추출 및 저장\n",
    "html = driver.page_source\n",
    "soup = BeautifulSoup(html, 'html.parser')\n",
    "\n",
    "for i, img_tag in enumerate(soup.find_all('img')):\n",
    "    img_src = urljoin(url, img_tag.get('src'))\n",
    "    img_data = requests.get(img_src).content\n",
    "    img_filename = f\"downloaded_images/{i + 1}.jpg\"\n",
    "    with open(img_filename, 'wb') as img_file:\n",
    "        img_file.write(img_data)\n",
    "\n",
    "    desc_tag = img_tag.find_next('td')\n",
    "    desc_text_lines = desc_tag.stripped_strings if desc_tag else []\n",
    "    desc_text = '\\n'.join(desc_text_lines)\n",
    "    desc_filename = f\"downloaded_texts/{i + 1}_description.txt\"\n",
    "\n",
    "    print(f\"이미지 주소: {img_src}\")\n",
    "    print(f\"이미지 저장: {img_filename}\")\n",
    "    print(f\"설명 저장: {desc_filename}\")\n",
    "\n",
    "    os.makedirs('downloaded_texts', exist_ok=True)\n",
    "    \n",
    "    with open(desc_filename, 'w', encoding='utf-8') as desc_file:\n",
    "        desc_file.write(desc_text)\n",
    "\n",
    "    print(\"=\" * 50)\n",
    "\n",
    "# 브라우저 닫기\n",
    "#driver.quit()\n",
    "\n"
   ]
  },
  {
   "cell_type": "code",
   "execution_count": null,
   "id": "634c7728",
   "metadata": {},
   "outputs": [],
   "source": []
  }
 ],
 "metadata": {
  "kernelspec": {
   "display_name": "Python 3 (ipykernel)",
   "language": "python",
   "name": "python3"
  },
  "language_info": {
   "codemirror_mode": {
    "name": "ipython",
    "version": 3
   },
   "file_extension": ".py",
   "mimetype": "text/x-python",
   "name": "python",
   "nbconvert_exporter": "python",
   "pygments_lexer": "ipython3",
   "version": "3.11.4"
  }
 },
 "nbformat": 4,
 "nbformat_minor": 5
}
