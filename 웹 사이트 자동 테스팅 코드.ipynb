{
 "cells": [
  {
   "cell_type": "code",
   "execution_count": 29,
   "id": "f500a219",
   "metadata": {},
   "outputs": [],
   "source": [
    "from selenium import webdriver\n",
    "from selenium.webdriver.common.by import By\n",
    "import os\n",
    "import time\n",
    "\n",
    "# Chrome 드라이버 경로 설정\n",
    "chrome_driver_path = 'C:/path/to/chromedriver.exe'\n",
    "url = 'http://localhost:5000/'\n",
    "\n",
    "# ChromeOptions 객체 생성\n",
    "chrome_options = webdriver.ChromeOptions()\n",
    "chrome_options.add_argument(\"--disable-extensions\")\n",
    "\n",
    "# 웹 드라이버 시작\n",
    "driver = webdriver.Chrome(options=chrome_options)\n",
    "driver.get(url)\n",
    "\n",
    "# 파일 선택 버튼 자동 클릭 (JavaScript로 클릭)\n",
    "file_input = driver.find_element(By.ID, 'imageInput')  \n",
    "driver.execute_script(\"arguments[0].click();\", file_input)\n",
    "\n",
    "# 파일 업로드\n",
    "image_folder_path = 'C:/Users/user/Downloads/images/'  # 실제 이미지 파일이 있는 폴더 경로로 수정 가능\n",
    "for image_file in os.listdir(image_folder_path):\n",
    "    file_path = os.path.join(image_folder_path, image_file)\n",
    "    with open(file_path, 'rb') as f:\n",
    "        file_data = f.read()\n",
    "    file_input.send_keys(file_path)  # 파일 경로 대신 파일 데이터를 전달\n",
    "    time.sleep(1)  \n",
    "\n",
    "# 이미지 전송 버튼 자동 클릭\n",
    "upload_button = driver.find_element(By.XPATH, \"//input[@value='이미지 전송']\")  \n",
    "upload_button.click()\n",
    "\n",
    "\n",
    "time.sleep(5)\n",
    "\n",
    "\n",
    "driver.quit()\n"
   ]
  },
  {
   "cell_type": "code",
   "execution_count": null,
   "id": "a32da6a1",
   "metadata": {},
   "outputs": [],
   "source": []
  }
 ],
 "metadata": {
  "kernelspec": {
   "display_name": "Python 3 (ipykernel)",
   "language": "python",
   "name": "python3"
  },
  "language_info": {
   "codemirror_mode": {
    "name": "ipython",
    "version": 3
   },
   "file_extension": ".py",
   "mimetype": "text/x-python",
   "name": "python",
   "nbconvert_exporter": "python",
   "pygments_lexer": "ipython3",
   "version": "3.11.4"
  }
 },
 "nbformat": 4,
 "nbformat_minor": 5
}
